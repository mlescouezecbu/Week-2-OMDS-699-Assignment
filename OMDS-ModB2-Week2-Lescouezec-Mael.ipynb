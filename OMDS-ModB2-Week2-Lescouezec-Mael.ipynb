{
 "cells": [
  {
   "cell_type": "markdown",
   "id": "5190b54c-d49c-4d6f-80cc-22555336a9cd",
   "metadata": {},
   "source": [
    "# Week 2 - Preprocessing, part 2\n",
    "\n",
    "# 1. Lesson: None"
   ]
  },
  {
   "cell_type": "markdown",
   "id": "47c4e5ff-b05f-4ef2-96f1-49dcb5beb158",
   "metadata": {},
   "source": [
    "# 2. Weekly graph question"
   ]
  },
  {
   "cell_type": "markdown",
   "id": "aad37e29-6e84-41fa-886d-abc1312213ab",
   "metadata": {},
   "source": [
    "The Storytelling With Data book mentions planning on a \"Who, What, and How\" for your data story.  Write down a possible Who, What, and How for your data, using the ideas in the book."
   ]
  },
  {
   "cell_type": "markdown",
   "id": "c2565fb8",
   "metadata": {},
   "source": [
    "The data set I chose is very big (that's why I chose it!) and contains data around a lot of job postings.  I remember being skeptical when I first had this set about its validity.  Let's check it out!\n",
    "\n",
    "Who: This data set would be useful to people researching hiring trends, or those interested in exploring advantages or disadvantages of careers.  It could be useful to those looking to those developing NLP programs, as there are description parameters.  \n",
    "\n",
    "What: This data might tell a story of inequality: maybe certain fields, areas of the world, or industries have more of an effect on salary range than they should.  It's possible this data is making a case for the need for more engineers, or environmental scientists, or any other field over-represented or under-represented in the data.  There are a lot of possibilties, that I'll have to dive in the data to see what point is might be made!\n",
    "\n",
    "How: Charts showing the salary range by location, or field would illstrate a point.  This data could show that you should use a specific job portal as the salary ranges are higher for the same positions!  Illustrating that relationship would make the point very clearly.  \n"
   ]
  },
  {
   "cell_type": "code",
   "execution_count": null,
   "id": "c862fc32-1297-4587-b9da-4b0642ab3e6e",
   "metadata": {},
   "outputs": [],
   "source": []
  },
  {
   "cell_type": "markdown",
   "id": "898eb327-aefd-4ac0-b95a-92b616a2181b",
   "metadata": {},
   "source": [
    "# 3. Homework - work with your own data"
   ]
  },
  {
   "cell_type": "code",
   "execution_count": 29,
   "id": "fe925521-979f-4983-8d85-8db8d1316e99",
   "metadata": {},
   "outputs": [],
   "source": [
    "import pandas as pd\n",
    "import numpy as np\n",
    "from datetime import datetime, timedelta\n",
    "import matplotlib.pyplot as plt"
   ]
  },
  {
   "cell_type": "markdown",
   "id": "14836788-b235-4cd4-b94d-5f749c6141a8",
   "metadata": {},
   "source": [
    "This week, you will do the same types of exercises as last week, but you should use your own datasets that you found last semester.\n",
    "\n",
    "### Here are some types of analysis you can do  Use Google, documentation, and ChatGPT to help you:\n",
    "\n",
    "- Summarize the datasets using info() and describe()\n",
    "\n",
    "- Are there any duplicate rows?\n",
    "\n",
    "- Are there any duplicate values in a given column (when this would be inappropriate?)\n",
    "\n",
    "- What are the mean, median, and mode of each column?\n",
    "\n",
    "- Are there any missing or null values?\n",
    "\n",
    "    - Do you want to fill in the missing value with a mean value?  A value of your choice?  Remove that row?\n",
    "\n",
    "- Identify any other inconsistent data (e.g. someone seems to be taking an action before they are born.)\n",
    "\n",
    "- Encode any categorical variables (e.g. with one-hot encoding.)\n",
    "\n",
    "### Conclusions:\n",
    "\n",
    "- Are the data usable?  If not, find some new data!\n",
    "\n",
    "- Do you need to modify or correct the data in some way?\n",
    "\n",
    "- Is there any class imbalance?  (Categories that have many more items than other categories)."
   ]
  },
  {
   "cell_type": "markdown",
   "id": "0b62982d",
   "metadata": {},
   "source": []
  },
  {
   "cell_type": "code",
   "execution_count": 4,
   "id": "2b48fff4",
   "metadata": {},
   "outputs": [],
   "source": [
    "jobs = pd.read_csv(\"job_descriptions 2.csv\")#This is a big data set, so it should take ~10s\n",
    "\n"
   ]
  },
  {
   "cell_type": "code",
   "execution_count": 8,
   "id": "282e96d5",
   "metadata": {},
   "outputs": [
    {
     "data": {
      "text/html": [
       "<div>\n",
       "<style scoped>\n",
       "    .dataframe tbody tr th:only-of-type {\n",
       "        vertical-align: middle;\n",
       "    }\n",
       "\n",
       "    .dataframe tbody tr th {\n",
       "        vertical-align: top;\n",
       "    }\n",
       "\n",
       "    .dataframe thead th {\n",
       "        text-align: right;\n",
       "    }\n",
       "</style>\n",
       "<table border=\"1\" class=\"dataframe\">\n",
       "  <thead>\n",
       "    <tr style=\"text-align: right;\">\n",
       "      <th></th>\n",
       "      <th>Job Id</th>\n",
       "      <th>Experience</th>\n",
       "      <th>Qualifications</th>\n",
       "      <th>Salary Range</th>\n",
       "      <th>location</th>\n",
       "      <th>Country</th>\n",
       "      <th>latitude</th>\n",
       "      <th>longitude</th>\n",
       "      <th>Work Type</th>\n",
       "      <th>Company Size</th>\n",
       "      <th>...</th>\n",
       "      <th>Contact</th>\n",
       "      <th>Job Title</th>\n",
       "      <th>Role</th>\n",
       "      <th>Job Portal</th>\n",
       "      <th>Job Description</th>\n",
       "      <th>Benefits</th>\n",
       "      <th>skills</th>\n",
       "      <th>Responsibilities</th>\n",
       "      <th>Company</th>\n",
       "      <th>Company Profile</th>\n",
       "    </tr>\n",
       "  </thead>\n",
       "  <tbody>\n",
       "    <tr>\n",
       "      <th>0</th>\n",
       "      <td>1089843540111562</td>\n",
       "      <td>5 to 15 Years</td>\n",
       "      <td>M.Tech</td>\n",
       "      <td>$59K-$99K</td>\n",
       "      <td>Douglas</td>\n",
       "      <td>Isle of Man</td>\n",
       "      <td>54.2361</td>\n",
       "      <td>-4.5481</td>\n",
       "      <td>Intern</td>\n",
       "      <td>26801</td>\n",
       "      <td>...</td>\n",
       "      <td>001-381-930-7517x737</td>\n",
       "      <td>Digital Marketing Specialist</td>\n",
       "      <td>Social Media Manager</td>\n",
       "      <td>Snagajob</td>\n",
       "      <td>Social Media Managers oversee an organizations...</td>\n",
       "      <td>{'Flexible Spending Accounts (FSAs), Relocatio...</td>\n",
       "      <td>Social media platforms (e.g., Facebook, Twitte...</td>\n",
       "      <td>Manage and grow social media accounts, create ...</td>\n",
       "      <td>Icahn Enterprises</td>\n",
       "      <td>{\"Sector\":\"Diversified\",\"Industry\":\"Diversifie...</td>\n",
       "    </tr>\n",
       "    <tr>\n",
       "      <th>1</th>\n",
       "      <td>398454096642776</td>\n",
       "      <td>2 to 12 Years</td>\n",
       "      <td>BCA</td>\n",
       "      <td>$56K-$116K</td>\n",
       "      <td>Ashgabat</td>\n",
       "      <td>Turkmenistan</td>\n",
       "      <td>38.9697</td>\n",
       "      <td>59.5563</td>\n",
       "      <td>Intern</td>\n",
       "      <td>100340</td>\n",
       "      <td>...</td>\n",
       "      <td>461-509-4216</td>\n",
       "      <td>Web Developer</td>\n",
       "      <td>Frontend Web Developer</td>\n",
       "      <td>Idealist</td>\n",
       "      <td>Frontend Web Developers design and implement u...</td>\n",
       "      <td>{'Health Insurance, Retirement Plans, Paid Tim...</td>\n",
       "      <td>HTML, CSS, JavaScript Frontend frameworks (e.g...</td>\n",
       "      <td>Design and code user interfaces for websites, ...</td>\n",
       "      <td>PNC Financial Services Group</td>\n",
       "      <td>{\"Sector\":\"Financial Services\",\"Industry\":\"Com...</td>\n",
       "    </tr>\n",
       "    <tr>\n",
       "      <th>2</th>\n",
       "      <td>481640072963533</td>\n",
       "      <td>0 to 12 Years</td>\n",
       "      <td>PhD</td>\n",
       "      <td>$61K-$104K</td>\n",
       "      <td>Macao</td>\n",
       "      <td>Macao SAR, China</td>\n",
       "      <td>22.1987</td>\n",
       "      <td>113.5439</td>\n",
       "      <td>Temporary</td>\n",
       "      <td>84525</td>\n",
       "      <td>...</td>\n",
       "      <td>9687619505</td>\n",
       "      <td>Operations Manager</td>\n",
       "      <td>Quality Control Manager</td>\n",
       "      <td>Jobs2Careers</td>\n",
       "      <td>Quality Control Managers establish and enforce...</td>\n",
       "      <td>{'Legal Assistance, Bonuses and Incentive Prog...</td>\n",
       "      <td>Quality control processes and methodologies St...</td>\n",
       "      <td>Establish and enforce quality control standard...</td>\n",
       "      <td>United Services Automobile Assn.</td>\n",
       "      <td>{\"Sector\":\"Insurance\",\"Industry\":\"Insurance: P...</td>\n",
       "    </tr>\n",
       "    <tr>\n",
       "      <th>3</th>\n",
       "      <td>688192671473044</td>\n",
       "      <td>4 to 11 Years</td>\n",
       "      <td>PhD</td>\n",
       "      <td>$65K-$91K</td>\n",
       "      <td>Porto-Novo</td>\n",
       "      <td>Benin</td>\n",
       "      <td>9.3077</td>\n",
       "      <td>2.3158</td>\n",
       "      <td>Full-Time</td>\n",
       "      <td>129896</td>\n",
       "      <td>...</td>\n",
       "      <td>+1-820-643-5431x47576</td>\n",
       "      <td>Network Engineer</td>\n",
       "      <td>Wireless Network Engineer</td>\n",
       "      <td>FlexJobs</td>\n",
       "      <td>Wireless Network Engineers design, implement, ...</td>\n",
       "      <td>{'Transportation Benefits, Professional Develo...</td>\n",
       "      <td>Wireless network design and architecture Wi-Fi...</td>\n",
       "      <td>Design, configure, and optimize wireless netwo...</td>\n",
       "      <td>Hess</td>\n",
       "      <td>{\"Sector\":\"Energy\",\"Industry\":\"Mining, Crude-O...</td>\n",
       "    </tr>\n",
       "    <tr>\n",
       "      <th>4</th>\n",
       "      <td>117057806156508</td>\n",
       "      <td>1 to 12 Years</td>\n",
       "      <td>MBA</td>\n",
       "      <td>$64K-$87K</td>\n",
       "      <td>Santiago</td>\n",
       "      <td>Chile</td>\n",
       "      <td>-35.6751</td>\n",
       "      <td>-71.5429</td>\n",
       "      <td>Intern</td>\n",
       "      <td>53944</td>\n",
       "      <td>...</td>\n",
       "      <td>343.975.4702x9340</td>\n",
       "      <td>Event Manager</td>\n",
       "      <td>Conference Manager</td>\n",
       "      <td>Jobs2Careers</td>\n",
       "      <td>A Conference Manager coordinates and manages c...</td>\n",
       "      <td>{'Flexible Spending Accounts (FSAs), Relocatio...</td>\n",
       "      <td>Event planning Conference logistics Budget man...</td>\n",
       "      <td>Specialize in conference and convention planni...</td>\n",
       "      <td>Cairn Energy</td>\n",
       "      <td>{\"Sector\":\"Energy\",\"Industry\":\"Energy - Oil &amp; ...</td>\n",
       "    </tr>\n",
       "  </tbody>\n",
       "</table>\n",
       "<p>5 rows × 23 columns</p>\n",
       "</div>"
      ],
      "text/plain": [
       "             Job Id     Experience Qualifications Salary Range    location  \\\n",
       "0  1089843540111562  5 to 15 Years         M.Tech    $59K-$99K     Douglas   \n",
       "1   398454096642776  2 to 12 Years            BCA   $56K-$116K    Ashgabat   \n",
       "2   481640072963533  0 to 12 Years            PhD   $61K-$104K       Macao   \n",
       "3   688192671473044  4 to 11 Years            PhD    $65K-$91K  Porto-Novo   \n",
       "4   117057806156508  1 to 12 Years            MBA    $64K-$87K    Santiago   \n",
       "\n",
       "            Country  latitude  longitude  Work Type  Company Size  ...  \\\n",
       "0       Isle of Man   54.2361    -4.5481     Intern         26801  ...   \n",
       "1      Turkmenistan   38.9697    59.5563     Intern        100340  ...   \n",
       "2  Macao SAR, China   22.1987   113.5439  Temporary         84525  ...   \n",
       "3             Benin    9.3077     2.3158  Full-Time        129896  ...   \n",
       "4             Chile  -35.6751   -71.5429     Intern         53944  ...   \n",
       "\n",
       "                 Contact                     Job Title  \\\n",
       "0   001-381-930-7517x737  Digital Marketing Specialist   \n",
       "1           461-509-4216                 Web Developer   \n",
       "2             9687619505            Operations Manager   \n",
       "3  +1-820-643-5431x47576              Network Engineer   \n",
       "4      343.975.4702x9340                 Event Manager   \n",
       "\n",
       "                        Role    Job Portal  \\\n",
       "0       Social Media Manager      Snagajob   \n",
       "1     Frontend Web Developer      Idealist   \n",
       "2    Quality Control Manager  Jobs2Careers   \n",
       "3  Wireless Network Engineer      FlexJobs   \n",
       "4         Conference Manager  Jobs2Careers   \n",
       "\n",
       "                                     Job Description  \\\n",
       "0  Social Media Managers oversee an organizations...   \n",
       "1  Frontend Web Developers design and implement u...   \n",
       "2  Quality Control Managers establish and enforce...   \n",
       "3  Wireless Network Engineers design, implement, ...   \n",
       "4  A Conference Manager coordinates and manages c...   \n",
       "\n",
       "                                            Benefits  \\\n",
       "0  {'Flexible Spending Accounts (FSAs), Relocatio...   \n",
       "1  {'Health Insurance, Retirement Plans, Paid Tim...   \n",
       "2  {'Legal Assistance, Bonuses and Incentive Prog...   \n",
       "3  {'Transportation Benefits, Professional Develo...   \n",
       "4  {'Flexible Spending Accounts (FSAs), Relocatio...   \n",
       "\n",
       "                                              skills  \\\n",
       "0  Social media platforms (e.g., Facebook, Twitte...   \n",
       "1  HTML, CSS, JavaScript Frontend frameworks (e.g...   \n",
       "2  Quality control processes and methodologies St...   \n",
       "3  Wireless network design and architecture Wi-Fi...   \n",
       "4  Event planning Conference logistics Budget man...   \n",
       "\n",
       "                                    Responsibilities  \\\n",
       "0  Manage and grow social media accounts, create ...   \n",
       "1  Design and code user interfaces for websites, ...   \n",
       "2  Establish and enforce quality control standard...   \n",
       "3  Design, configure, and optimize wireless netwo...   \n",
       "4  Specialize in conference and convention planni...   \n",
       "\n",
       "                            Company  \\\n",
       "0                 Icahn Enterprises   \n",
       "1      PNC Financial Services Group   \n",
       "2  United Services Automobile Assn.   \n",
       "3                              Hess   \n",
       "4                      Cairn Energy   \n",
       "\n",
       "                                     Company Profile  \n",
       "0  {\"Sector\":\"Diversified\",\"Industry\":\"Diversifie...  \n",
       "1  {\"Sector\":\"Financial Services\",\"Industry\":\"Com...  \n",
       "2  {\"Sector\":\"Insurance\",\"Industry\":\"Insurance: P...  \n",
       "3  {\"Sector\":\"Energy\",\"Industry\":\"Mining, Crude-O...  \n",
       "4  {\"Sector\":\"Energy\",\"Industry\":\"Energy - Oil & ...  \n",
       "\n",
       "[5 rows x 23 columns]"
      ]
     },
     "execution_count": 8,
     "metadata": {},
     "output_type": "execute_result"
    }
   ],
   "source": [
    "jobs.head()\n"
   ]
  },
  {
   "cell_type": "code",
   "execution_count": 7,
   "id": "2df4cd5e",
   "metadata": {},
   "outputs": [
    {
     "name": "stdout",
     "output_type": "stream",
     "text": [
      "<class 'pandas.core.frame.DataFrame'>\n",
      "RangeIndex: 1615940 entries, 0 to 1615939\n",
      "Data columns (total 23 columns):\n",
      " #   Column            Non-Null Count    Dtype  \n",
      "---  ------            --------------    -----  \n",
      " 0   Job Id            1615940 non-null  int64  \n",
      " 1   Experience        1615940 non-null  object \n",
      " 2   Qualifications    1615940 non-null  object \n",
      " 3   Salary Range      1615940 non-null  object \n",
      " 4   location          1615940 non-null  object \n",
      " 5   Country           1615940 non-null  object \n",
      " 6   latitude          1615940 non-null  float64\n",
      " 7   longitude         1615940 non-null  float64\n",
      " 8   Work Type         1615940 non-null  object \n",
      " 9   Company Size      1615940 non-null  int64  \n",
      " 10  Job Posting Date  1615940 non-null  object \n",
      " 11  Preference        1615940 non-null  object \n",
      " 12  Contact Person    1615940 non-null  object \n",
      " 13  Contact           1615940 non-null  object \n",
      " 14  Job Title         1615940 non-null  object \n",
      " 15  Role              1615940 non-null  object \n",
      " 16  Job Portal        1615940 non-null  object \n",
      " 17  Job Description   1615940 non-null  object \n",
      " 18  Benefits          1615940 non-null  object \n",
      " 19  skills            1615940 non-null  object \n",
      " 20  Responsibilities  1615940 non-null  object \n",
      " 21  Company           1615940 non-null  object \n",
      " 22  Company Profile   1610462 non-null  object \n",
      "dtypes: float64(2), int64(2), object(19)\n",
      "memory usage: 283.6+ MB\n"
     ]
    }
   ],
   "source": [
    "jobs.info()"
   ]
  },
  {
   "cell_type": "markdown",
   "id": "dd43ef02",
   "metadata": {},
   "source": [
    "Maybe it's good to convert the posting date into a datetime object like in week 1:"
   ]
  },
  {
   "cell_type": "code",
   "execution_count": 11,
   "id": "6973e278",
   "metadata": {},
   "outputs": [
    {
     "name": "stdout",
     "output_type": "stream",
     "text": [
      "It worked!\n",
      "<class 'pandas.core.frame.DataFrame'>\n",
      "RangeIndex: 1615940 entries, 0 to 1615939\n",
      "Data columns (total 23 columns):\n",
      " #   Column            Non-Null Count    Dtype         \n",
      "---  ------            --------------    -----         \n",
      " 0   Job Id            1615940 non-null  int64         \n",
      " 1   Experience        1615940 non-null  object        \n",
      " 2   Qualifications    1615940 non-null  object        \n",
      " 3   Salary Range      1615940 non-null  object        \n",
      " 4   location          1615940 non-null  object        \n",
      " 5   Country           1615940 non-null  object        \n",
      " 6   latitude          1615940 non-null  float64       \n",
      " 7   longitude         1615940 non-null  float64       \n",
      " 8   Work Type         1615940 non-null  object        \n",
      " 9   Company Size      1615940 non-null  int64         \n",
      " 10  Job Posting Date  1615940 non-null  datetime64[ns]\n",
      " 11  Preference        1615940 non-null  object        \n",
      " 12  Contact Person    1615940 non-null  object        \n",
      " 13  Contact           1615940 non-null  object        \n",
      " 14  Job Title         1615940 non-null  object        \n",
      " 15  Role              1615940 non-null  object        \n",
      " 16  Job Portal        1615940 non-null  object        \n",
      " 17  Job Description   1615940 non-null  object        \n",
      " 18  Benefits          1615940 non-null  object        \n",
      " 19  skills            1615940 non-null  object        \n",
      " 20  Responsibilities  1615940 non-null  object        \n",
      " 21  Company           1615940 non-null  object        \n",
      " 22  Company Profile   1610462 non-null  object        \n",
      "dtypes: datetime64[ns](1), float64(2), int64(2), object(18)\n",
      "memory usage: 283.6+ MB\n",
      "None\n"
     ]
    }
   ],
   "source": [
    "\n",
    "try:\n",
    "    jobs[\"Job Posting Date\"] = pd.to_datetime(jobs[\"Job Posting Date\"], format='%Y-%m-%d')\n",
    "    print(\"It worked!\")\n",
    "except ValueError as e:\n",
    "    print(f\"ValueError for AccountOpened: {e}\")\n",
    "print(jobs.info())"
   ]
  },
  {
   "cell_type": "markdown",
   "id": "acc421de",
   "metadata": {},
   "source": [
    "It looks like all the dates were formatted similarly, saving a lot of headache!  Next, let's look for null values"
   ]
  },
  {
   "cell_type": "code",
   "execution_count": 15,
   "id": "9d2be8fe",
   "metadata": {},
   "outputs": [
    {
     "data": {
      "text/plain": [
       "Job Id                 0\n",
       "Experience             0\n",
       "Qualifications         0\n",
       "Salary Range           0\n",
       "location               0\n",
       "Country                0\n",
       "latitude               0\n",
       "longitude              0\n",
       "Work Type              0\n",
       "Company Size           0\n",
       "Job Posting Date       0\n",
       "Preference             0\n",
       "Contact Person         0\n",
       "Contact                0\n",
       "Job Title              0\n",
       "Role                   0\n",
       "Job Portal             0\n",
       "Job Description        0\n",
       "Benefits               0\n",
       "skills                 0\n",
       "Responsibilities       0\n",
       "Company                0\n",
       "Company Profile     5478\n",
       "dtype: int64"
      ]
     },
     "execution_count": 15,
     "metadata": {},
     "output_type": "execute_result"
    }
   ],
   "source": [
    "jobs.isnull().values.any()\n",
    "jobs.isnull().sum()\n",
    "\n"
   ]
  },
  {
   "cell_type": "markdown",
   "id": "3e5dc809",
   "metadata": {},
   "source": [
    "Okay, so it looks like there are a lot of null values, but they are in the 'Company Profile' parameter. This parameter isn't one we'll be using to do a lot of measurements, so it's probably ok.  I don't think we need to take out these rows, or even replace them until we're doing complex enough analyses to include the descriptions of the companies.\n",
    "\n",
    "Next, let's look for duplicates.  First, we'll look for total duplicate rows.  Then, we'll look for duplicates by column."
   ]
  },
  {
   "cell_type": "code",
   "execution_count": 17,
   "id": "4090e724",
   "metadata": {},
   "outputs": [
    {
     "data": {
      "text/plain": [
       "np.False_"
      ]
     },
     "execution_count": 17,
     "metadata": {},
     "output_type": "execute_result"
    }
   ],
   "source": [
    "jobs.duplicated().any()"
   ]
  },
  {
   "cell_type": "code",
   "execution_count": 21,
   "id": "90353e85",
   "metadata": {},
   "outputs": [
    {
     "name": "stdout",
     "output_type": "stream",
     "text": [
      "True\n",
      "Job Id is totally unique:  True\n",
      "Experience is totally unique:  False\n",
      "Qualifications is totally unique:  False\n",
      "Salary Range is totally unique:  False\n",
      "location is totally unique:  False\n",
      "Country is totally unique:  False\n",
      "latitude is totally unique:  False\n",
      "longitude is totally unique:  False\n",
      "Work Type is totally unique:  False\n",
      "Company Size is totally unique:  False\n",
      "Job Posting Date is totally unique:  False\n",
      "Preference is totally unique:  False\n",
      "Contact Person is totally unique:  False\n",
      "Contact is totally unique:  False\n",
      "Job Title is totally unique:  False\n",
      "Role is totally unique:  False\n",
      "Job Portal is totally unique:  False\n",
      "Job Description is totally unique:  False\n",
      "Benefits is totally unique:  False\n",
      "skills is totally unique:  False\n",
      "Responsibilities is totally unique:  False\n",
      "Company is totally unique:  False\n",
      "Company Profile is totally unique:  False\n"
     ]
    }
   ],
   "source": [
    "print(jobs['Job Id'].is_unique)\n",
    "for i in jobs:\n",
    "    print(f\"{i} is totally unique: \", jobs[i].is_unique)"
   ]
  },
  {
   "cell_type": "markdown",
   "id": "1f2b8300",
   "metadata": {},
   "source": [
    "So the Job Id's are unique, that's nice.  There are a lot of repeats in the other columns.  Some of these make sense: jobs could be posted on the same date, jobs could have the titles.  It is weird to have job descriptions be exactly the same, especially since we already saw that there were no null values.  \n",
    "\n",
    "Now, lets double check for duplicates AFTER we remove the Job ID.  A good data set should not have many duplicates after we remove the Job ID, as having all other parameters the same wouldn't make any sense (except for maybe multiple hires?).  It still shouldn't be a lot.  "
   ]
  },
  {
   "cell_type": "code",
   "execution_count": 25,
   "id": "e5dc578a",
   "metadata": {},
   "outputs": [
    {
     "name": "stdout",
     "output_type": "stream",
     "text": [
      "False\n"
     ]
    }
   ],
   "source": [
    "jobs_noid = jobs.drop(columns=['Job Id'])\n",
    "#print(jobs_noid.head()) #uncomment this line to make sure it worked\n",
    "print(jobs_noid.duplicated().any())\n"
   ]
  },
  {
   "cell_type": "markdown",
   "id": "a9176670",
   "metadata": {},
   "source": [
    "Well great!  No duplicates, though maybe some limited varieties in the columns.  As a last step, I'll do some sanity check to make sure the values make sense:  The dates posted aren't super old or in the future, the company size makes sense, etc.  "
   ]
  },
  {
   "cell_type": "code",
   "execution_count": 28,
   "id": "98f80f31",
   "metadata": {},
   "outputs": [
    {
     "name": "stdout",
     "output_type": "stream",
     "text": [
      "Minimum company size:  12646\n",
      "Maximum company size:  134834\n",
      "Earliest posting:  2021-09-15 00:00:00\n",
      "Latest posting:  2023-09-15 00:00:00\n"
     ]
    }
   ],
   "source": [
    "print(\"Minimum company size: \",jobs['Company Size'].min())\n",
    "print(\"Maximum company size: \", jobs['Company Size'].max())\n",
    "\n",
    "print(\"Earliest posting: \", jobs['Job Posting Date'].min())\n",
    "print(\"Latest posting: \", jobs['Job Posting Date'].max())"
   ]
  },
  {
   "cell_type": "markdown",
   "id": "d62b8dcf",
   "metadata": {},
   "source": [
    "These make sense!  Once we get a little more complicated, using Groupby objects to see the breakdown by variable might be helpful in determining the validity of this data. So far, it does look usable however! "
   ]
  },
  {
   "cell_type": "markdown",
   "id": "abab9e6d-18cc-4863-b980-3e52f581763a",
   "metadata": {},
   "source": [
    "# 4. Storytelling With Data graph"
   ]
  },
  {
   "cell_type": "markdown",
   "id": "1911148d-9df6-4b33-a875-8c96408ec834",
   "metadata": {},
   "source": [
    "Just like last week: choose any graph in the Introduction of Storytelling With Data. Use matplotlib to reproduce it in a rough way. I don't expect you to spend an enormous amount of time on this; I understand that you likely will not have time to re-create every feature of the graph. However, if you're excited about learning to use matplotlib, this is a good way to do that. You don't have to duplicate the exact values on the graph; just the same rough shape will be enough.  If you don't feel comfortable using matplotlib yet, do the best you can and write down what you tried or what Google searches you did to find the answers."
   ]
  },
  {
   "cell_type": "code",
   "execution_count": 44,
   "id": "8b2888f9-3700-45ab-9829-6a5372106f9f",
   "metadata": {},
   "outputs": [
    {
     "data": {
      "image/png": "[encoded data removed]",
      "text/plain": [
       "<Figure size 1000x600 with 1 Axes>"
      ]
     },
     "metadata": {},
     "output_type": "display_data"
    }
   ],
   "source": [
    "years = [2008, 2009, 2010, 2011, 2012, 2013, 2014]\n",
    "product_a = [398, 410, 415, 395, 300, 260, 255]\n",
    "product_b = [355, 400, 405 ,375, 289, 250, 245]\n",
    "product_c = [0,0, 100, 185, 199, 240,184]\n",
    "product_d = [0,0,0,155,255,208,206]\n",
    "product_e = [0,0,0,0,0,98,206]\n",
    "products = {\"Product A\":product_a,\"Product B\":product_b, \"Product C\": product_c, \"Product D\":product_d, \"Product E\":product_e}\n",
    "\n",
    "\n",
    "index = np.arange(len(products)) \n",
    "fig, ax = plt.subplots(figsize=(10, 6))\n",
    "\n",
    "\n",
    "bar_width = .1\n",
    "for i, year in enumerate(years):\n",
    "    prices = [products[product][i] for product in products]\n",
    "    ax.bar(index + i * bar_width, prices, bar_width, label=str(year))\n",
    "\n",
    "\n",
    "\n",
    "ax.set_title('Average Retail Product Price per Year')\n",
    "ax.set_xticks(index)\n",
    "ax.set_xticklabels(products.keys())\n",
    "ax.legend()\n",
    "plt.ylim(0, 500)\n",
    "\n",
    "\n",
    "\n",
    "plt.show()"
   ]
  }
 ],
 "metadata": {
  "kernelspec": {
   "display_name": "Python 3 (ipykernel)",
   "language": "python",
   "name": "python3"
  },
  "language_info": {
   "codemirror_mode": {
    "name": "ipython",
    "version": 3
   },
   "file_extension": ".py",
   "mimetype": "text/x-python",
   "name": "python",
   "nbconvert_exporter": "python",
   "pygments_lexer": "ipython3",
   "version": "3.12.6"
  }
 },
 "nbformat": 4,
 "nbformat_minor": 5
}
